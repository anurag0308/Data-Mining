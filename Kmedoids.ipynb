{
 "cells": [
  {
   "cell_type": "code",
   "execution_count": 34,
   "metadata": {},
   "outputs": [],
   "source": [
    "import pandas as pd\n",
    "import numpy as np\n",
    "import scipy\n",
    "from scipy.spatial import distance_matrix as dm"
   ]
  },
  {
   "cell_type": "code",
   "execution_count": 35,
   "metadata": {},
   "outputs": [
    {
     "data": {
      "text/html": [
       "<div>\n",
       "<style scoped>\n",
       "    .dataframe tbody tr th:only-of-type {\n",
       "        vertical-align: middle;\n",
       "    }\n",
       "\n",
       "    .dataframe tbody tr th {\n",
       "        vertical-align: top;\n",
       "    }\n",
       "\n",
       "    .dataframe thead th {\n",
       "        text-align: right;\n",
       "    }\n",
       "</style>\n",
       "<table border=\"1\" class=\"dataframe\">\n",
       "  <thead>\n",
       "    <tr style=\"text-align: right;\">\n",
       "      <th></th>\n",
       "      <th>0</th>\n",
       "      <th>1</th>\n",
       "      <th>2</th>\n",
       "    </tr>\n",
       "  </thead>\n",
       "  <tbody>\n",
       "    <tr>\n",
       "      <th>0</th>\n",
       "      <td>x1</td>\n",
       "      <td>2</td>\n",
       "      <td>6</td>\n",
       "    </tr>\n",
       "    <tr>\n",
       "      <th>1</th>\n",
       "      <td>x2</td>\n",
       "      <td>3</td>\n",
       "      <td>4</td>\n",
       "    </tr>\n",
       "    <tr>\n",
       "      <th>2</th>\n",
       "      <td>x3</td>\n",
       "      <td>3</td>\n",
       "      <td>8</td>\n",
       "    </tr>\n",
       "    <tr>\n",
       "      <th>3</th>\n",
       "      <td>x4</td>\n",
       "      <td>5</td>\n",
       "      <td>7</td>\n",
       "    </tr>\n",
       "    <tr>\n",
       "      <th>4</th>\n",
       "      <td>x5</td>\n",
       "      <td>6</td>\n",
       "      <td>2</td>\n",
       "    </tr>\n",
       "    <tr>\n",
       "      <th>5</th>\n",
       "      <td>x6</td>\n",
       "      <td>6</td>\n",
       "      <td>4</td>\n",
       "    </tr>\n",
       "    <tr>\n",
       "      <th>6</th>\n",
       "      <td>x7</td>\n",
       "      <td>7</td>\n",
       "      <td>3</td>\n",
       "    </tr>\n",
       "    <tr>\n",
       "      <th>7</th>\n",
       "      <td>x8</td>\n",
       "      <td>7</td>\n",
       "      <td>4</td>\n",
       "    </tr>\n",
       "    <tr>\n",
       "      <th>8</th>\n",
       "      <td>x9</td>\n",
       "      <td>8</td>\n",
       "      <td>5</td>\n",
       "    </tr>\n",
       "    <tr>\n",
       "      <th>9</th>\n",
       "      <td>x10</td>\n",
       "      <td>7</td>\n",
       "      <td>6</td>\n",
       "    </tr>\n",
       "  </tbody>\n",
       "</table>\n",
       "</div>"
      ],
      "text/plain": [
       "     0  1  2\n",
       "0   x1  2  6\n",
       "1   x2  3  4\n",
       "2   x3  3  8\n",
       "3   x4  5  7\n",
       "4   x5  6  2\n",
       "5   x6  6  4\n",
       "6   x7  7  3\n",
       "7   x8  7  4\n",
       "8   x9  8  5\n",
       "9  x10  7  6"
      ]
     },
     "execution_count": 35,
     "metadata": {},
     "output_type": "execute_result"
    }
   ],
   "source": [
    "mydata = pd.read_csv('C://Users//Anurag sharma//Desktop//STUDY MAT & BOOKS//3rd SEM//DataMining//Kmedoids.csv',header=None)\n",
    "mydata"
   ]
  },
  {
   "cell_type": "code",
   "execution_count": 36,
   "metadata": {},
   "outputs": [
    {
     "data": {
      "text/plain": [
       "array([7, 5, 6, 0, 3, 1, 4, 2, 9, 8])"
      ]
     },
     "execution_count": 36,
     "metadata": {},
     "output_type": "execute_result"
    }
   ],
   "source": [
    "rand=np.random.permutation(len(mydata))\n",
    "rand"
   ]
  },
  {
   "cell_type": "code",
   "execution_count": null,
   "metadata": {},
   "outputs": [],
   "source": [
    "k=3 #no. of cluster"
   ]
  },
  {
   "cell_type": "code",
   "execution_count": 43,
   "metadata": {},
   "outputs": [],
   "source": [
    "def initialize_k():\n",
    "    rand=np.random.permutation(len(mydata)) #randomly generates an array equal to the length of data points\n",
    "    #for i in range(len(rand)):\n",
    "    med1=rand[0] #select 1st random no. as your first medoid\n",
    "    med2=rand[1]\n",
    "    med3=rand[2]#select 2nd random no. as your second \n",
    "    #med2=rand[i+1]\n",
    "    k1 = mydata.iloc[med1]\n",
    "    k2 = mydata.iloc[med2]\n",
    "    k3 = mydata.iloc[med3]\n",
    "    return k1,k2,k3"
   ]
  },
  {
   "cell_type": "code",
   "execution_count": 45,
   "metadata": {},
   "outputs": [
    {
     "data": {
      "text/plain": [
       "(0    x1\n",
       " 1     2\n",
       " 2     6\n",
       " Name: 0, dtype: object, 0    x3\n",
       " 1     3\n",
       " 2     8\n",
       " Name: 2, dtype: object, 0    x2\n",
       " 1     3\n",
       " 2     4\n",
       " Name: 1, dtype: object)"
      ]
     },
     "execution_count": 45,
     "metadata": {},
     "output_type": "execute_result"
    }
   ],
   "source": [
    "k=initialize_k()\n",
    "k"
   ]
  },
  {
   "cell_type": "code",
   "execution_count": 33,
   "metadata": {},
   "outputs": [
    {
     "name": "stdout",
     "output_type": "stream",
     "text": [
      "[2, 3, 3, 5, 6, 6, 7, 7, 8, 7] [6, 4, 8, 7, 2, 4, 3, 4, 5, 6] ['x1', 'x2', 'x3', 'x4', 'x5', 'x6', 'x7', 'x8', 'x9', 'x10']\n",
      "0    x3\n",
      "1     3\n",
      "2     8\n",
      "Name: 2, dtype: object\n",
      "{'x3': 6}\n"
     ]
    }
   ],
   "source": [
    "A=[]\n",
    "B=[]\n",
    "C=[]\n",
    "D= {}\n",
    "for i in range(len(mydata)):\n",
    "    a = mydata.iloc[i]\n",
    "    #print (len(a))\n",
    "    for j in range(len(a)-2):\n",
    "        C.append(a[j])\n",
    "        A.append(a[j+1])\n",
    "        B.append(a[j+2])\n",
    "print (A,B,C)\n",
    "k1 = initialize_k()\n",
    "print (k1)\n",
    "for i in range(len(A)):\n",
    "    d = abs((k1[1] - A[i]))+abs((k1[2]-B[i]))\n",
    "\n",
    "    D[k1[0]]=d\n",
    "print (D)"
   ]
  },
  {
   "cell_type": "code",
   "execution_count": 41,
   "metadata": {},
   "outputs": [],
   "source": [
    "D1={}\n",
    "def distance():\n",
    "    a = max(D.keys(), key=(lambda k: D[k]))\n",
    "    K = [i for (i,j) in enumerate(C) if j==a]\n",
    "    print (K)\n",
    "    k1=mydata.iloc[K[0]]\n",
    "    print (k1)\n",
    "    \n",
    "    for i in range(len(A)):\n",
    "        d = abs((k1[1] - A[i]))+abs((k1[2]-B[i]))\n",
    "        D1[C[i]]=d\n",
    "    return k1,D1\n",
    "        \n",
    "        \n",
    "            \n",
    "\n",
    "        "
   ]
  },
  {
   "cell_type": "code",
   "execution_count": 42,
   "metadata": {},
   "outputs": [
    {
     "name": "stdout",
     "output_type": "stream",
     "text": [
      "[2]\n",
      "0    x3\n",
      "1     3\n",
      "2     8\n",
      "Name: 2, dtype: object\n"
     ]
    },
    {
     "data": {
      "text/plain": [
       "(0    x3\n",
       " 1     3\n",
       " 2     8\n",
       " Name: 2, dtype: object,\n",
       " {'x1': 3,\n",
       "  'x2': 4,\n",
       "  'x3': 0,\n",
       "  'x4': 3,\n",
       "  'x5': 9,\n",
       "  'x6': 7,\n",
       "  'x7': 9,\n",
       "  'x8': 8,\n",
       "  'x9': 8,\n",
       "  'x10': 6})"
      ]
     },
     "execution_count": 42,
     "metadata": {},
     "output_type": "execute_result"
    }
   ],
   "source": [
    "distance()"
   ]
  },
  {
   "cell_type": "code",
   "execution_count": null,
   "metadata": {},
   "outputs": [],
   "source": []
  },
  {
   "cell_type": "code",
   "execution_count": 10,
   "metadata": {},
   "outputs": [
    {
     "data": {
      "text/plain": [
       "'x9'"
      ]
     },
     "execution_count": 10,
     "metadata": {},
     "output_type": "execute_result"
    }
   ],
   "source": [
    "key_max = max(D.keys(), key=(lambda k: D[k]))\n",
    "key_max"
   ]
  },
  {
   "cell_type": "code",
   "execution_count": 11,
   "metadata": {},
   "outputs": [
    {
     "ename": "SyntaxError",
     "evalue": "invalid syntax (<ipython-input-11-e40f0b63c114>, line 4)",
     "output_type": "error",
     "traceback": [
      "\u001b[1;36m  File \u001b[1;32m\"<ipython-input-11-e40f0b63c114>\"\u001b[1;36m, line \u001b[1;32m4\u001b[0m\n\u001b[1;33m    print row(mydata.iloc[0])\u001b[0m\n\u001b[1;37m            ^\u001b[0m\n\u001b[1;31mSyntaxError\u001b[0m\u001b[1;31m:\u001b[0m invalid syntax\n"
     ]
    }
   ],
   "source": [
    "A=[]\n",
    "B=[]\n",
    "for i, row in mydata.iterrows(): \n",
    "    print row(mydata.iloc[0])\n",
    "    #print(i,row)"
   ]
  },
  {
   "cell_type": "code",
   "execution_count": null,
   "metadata": {},
   "outputs": [],
   "source": [
    "A=[]\n",
    "B=[]\n",
    "for col in mydata:\n",
    "    "
   ]
  },
  {
   "cell_type": "code",
   "execution_count": null,
   "metadata": {},
   "outputs": [],
   "source": []
  }
 ],
 "metadata": {
  "kernelspec": {
   "display_name": "Python 3",
   "language": "python",
   "name": "python3"
  },
  "language_info": {
   "codemirror_mode": {
    "name": "ipython",
    "version": 3
   },
   "file_extension": ".py",
   "mimetype": "text/x-python",
   "name": "python",
   "nbconvert_exporter": "python",
   "pygments_lexer": "ipython3",
   "version": "3.6.5"
  }
 },
 "nbformat": 4,
 "nbformat_minor": 2
}
