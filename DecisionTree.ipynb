{
 "cells": [
  {
   "cell_type": "code",
   "execution_count": 1,
   "metadata": {},
   "outputs": [],
   "source": [
    "import pandas as pd\n",
    "import numpy as np\n",
    "import math\n",
    "#from tabulate import tabulate\n",
    "from sklearn.model_selection import train_test_split\n",
    "from sklearn import preprocessing\n",
    "\n"
   ]
  },
  {
   "cell_type": "code",
   "execution_count": 2,
   "metadata": {},
   "outputs": [],
   "source": [
    "mydata = pd.read_csv(\"C:\\\\Users\\\\Anurag sharma\\\\Desktop\\\\STUDY MAT & BOOKS\\\\3rd SEM\\\\DataMining\\\\weather.csv\")\n",
    "mydata = mydata.drop([\"day\"],axis=1)"
   ]
  },
  {
   "cell_type": "code",
   "execution_count": 3,
   "metadata": {},
   "outputs": [],
   "source": [
    "def total_entropy(target_col):\n",
    "        elements,counts = np.unique(target_col,return_counts = True)\n",
    "        entropy = 0\n",
    "        for i in range(len(elements)):\n",
    "            p_i = np.sum([(counts[i])/len(target_col)])\n",
    "            #print(p_i)\n",
    "            entropy += -p_i*np.log2(p_i)\n",
    "        return entropy\n",
    "    "
   ]
  },
  {
   "cell_type": "code",
   "execution_count": 4,
   "metadata": {},
   "outputs": [
    {
     "data": {
      "text/plain": [
       "0.9402859586706311"
      ]
     },
     "execution_count": 4,
     "metadata": {},
     "output_type": "execute_result"
    }
   ],
   "source": [
    "total_entropy(mydata[\"play\"])"
   ]
  },
  {
   "cell_type": "code",
   "execution_count": 5,
   "metadata": {},
   "outputs": [],
   "source": [
    "def entropy(column,target_col):\n",
    "    A=pd.crosstab(column,target_col)\n",
    "    #print (A)\n",
    "    e=[]\n",
    "    \n",
    "    for i in range(len(A)):\n",
    "        x = 0\n",
    "        for j in range(len(A.columns)):\n",
    "            pi = (A.iloc[i][j]/np.sum(A.iloc[i]))\n",
    "            #print (pi)\n",
    "            if (pi!=0):\n",
    "                  x += -pi*np.log2(pi)\n",
    "           #print (x)\n",
    "        e.append(x)\n",
    "    return e\n",
    "    "
   ]
  },
  {
   "cell_type": "code",
   "execution_count": 15,
   "metadata": {},
   "outputs": [
    {
     "data": {
      "text/plain": [
       "[0.0, 0.9709505944546686, 0.9709505944546686]"
      ]
     },
     "execution_count": 15,
     "metadata": {},
     "output_type": "execute_result"
    }
   ],
   "source": [
    "entropy(mydata[\"outlook\"],mydata[\"play\"])"
   ]
  },
  {
   "cell_type": "markdown",
   "metadata": {},
   "source": [
    "def entropy(column,target_col):\n",
    "    A=pd.crosstab(column,target_col)\n",
    "    e=[]\n",
    "    for i in range(len(A)):\n",
    "        #pi.append(A.iloc[i][0]/np.sum(A.iloc[i])\n",
    "        p_i_0 = A.iloc[i][0]/np.sum(A.iloc[i])\n",
    "        #print (p_i_0)\n",
    "        p_i_1 = A.iloc[i][1]/np.sum(A.iloc[i])\n",
    "        #print (p_i_1)\n",
    "        e.append(-(p_i_0)*np.log2(p_i_0)-(p_i_1)*np.log2(p_i_1))\n",
    "    return e\n",
    "    \n",
    "    \n",
    "    \n",
    "    "
   ]
  },
  {
   "cell_type": "code",
   "execution_count": 7,
   "metadata": {},
   "outputs": [
    {
     "data": {
      "text/plain": [
       "Index(['outlook', 'temp', 'humidity', 'wind', 'play'], dtype='object')"
      ]
     },
     "execution_count": 7,
     "metadata": {},
     "output_type": "execute_result"
    }
   ],
   "source": [
    "mydata.columns\n",
    "\n"
   ]
  },
  {
   "cell_type": "code",
   "execution_count": 8,
   "metadata": {},
   "outputs": [],
   "source": [
    "def weighted_entropy(split_attribute,target_col):\n",
    "    e = entropy(split_attribute,target_col)\n",
    "    vals,counts= np.unique(split_attribute,return_counts=True)\n",
    "    #print (vals)\n",
    "    #print (counts)\n",
    "    w_e = 0\n",
    "    for i in range(len(counts)):\n",
    "        w_e += counts[i]/len(target_col)*e[i]\n",
    "    return w_e\n",
    "    \n"
   ]
  },
  {
   "cell_type": "code",
   "execution_count": 16,
   "metadata": {},
   "outputs": [
    {
     "data": {
      "text/plain": [
       "0.6935361388961918"
      ]
     },
     "execution_count": 16,
     "metadata": {},
     "output_type": "execute_result"
    }
   ],
   "source": [
    "weighted_entropy(mydata[\"outlook\"],mydata[\"play\"])"
   ]
  },
  {
   "cell_type": "code",
   "execution_count": 10,
   "metadata": {},
   "outputs": [],
   "source": [
    "def InformationGain(data,target_col):\n",
    "    t_e = total_entropy(target_col)\n",
    "    #print(t_e)\n",
    "    Infogain =[]\n",
    "    col_s=data.columns[0:len(data.columns)-1]\n",
    "    #print(col_s)\n",
    "    ig = 0\n",
    "    #w_e = []\n",
    "    for column in col_s:\n",
    "        #print (column)\n",
    "        we = weighted_entropy(mydata[column],target_col)\n",
    "        #print (we)\n",
    "        ig = t_e-we\n",
    "        Infogain.append(ig)\n",
    "    return Infogain\n",
    "    "
   ]
  },
  {
   "cell_type": "code",
   "execution_count": 11,
   "metadata": {},
   "outputs": [
    {
     "data": {
      "text/plain": [
       "[0.24674981977443933,\n",
       " 0.02922256565895487,\n",
       " 0.15183550136234159,\n",
       " 0.04812703040826949]"
      ]
     },
     "execution_count": 11,
     "metadata": {},
     "output_type": "execute_result"
    }
   ],
   "source": [
    "InformationGain(mydata,mydata[\"play\"])"
   ]
  },
  {
   "cell_type": "code",
   "execution_count": 12,
   "metadata": {},
   "outputs": [
    {
     "data": {
      "text/plain": [
       "Index(['outlook', 'temp', 'humidity', 'wind', 'play'], dtype='object')"
      ]
     },
     "execution_count": 12,
     "metadata": {},
     "output_type": "execute_result"
    }
   ],
   "source": [
    "mydata.columns"
   ]
  },
  {
   "cell_type": "code",
   "execution_count": 17,
   "metadata": {},
   "outputs": [],
   "source": [
    "def ID3(data,target_col):\n",
    "    features = list(data.columns[0:len(data.columns)-1])\n",
    "    #print (features)\n",
    "    item_values = [InformationGain(data,target_col)]  \n",
    "    print (item_values)\n",
    "    best_feature_index = np.argmax(item_values)\n",
    "    #print (best_feature_index)\n",
    "    best_feature = features[best_feature_index]\n",
    "    tree = {best_feature:{}}\n",
    "    \n",
    "    for i in range(len(features)):\n",
    "        best_feature_index = np.argmax(item_values)\n",
    "        if (i == best_feature_index):\n",
    "            features.pop(i)\n",
    "    print (features)\n",
    "    col_s= features\n",
    "    for value in np.unique(data[best_feature]):\n",
    "            value = value\n",
    "            sub_data = data.where(data[best_feature] == value).dropna()\n",
    "    for column in col_s:\n",
    "            x = InformationGain(best_feature,column)\n",
    "            subtree = ID3(sub_data,target_col)\n",
    "            \n",
    "    return best_feature\n"
   ]
  },
  {
   "cell_type": "code",
   "execution_count": 18,
   "metadata": {},
   "outputs": [
    {
     "name": "stdout",
     "output_type": "stream",
     "text": [
      "[[0.24674981977443933, 0.02922256565895487, 0.15183550136234159, 0.04812703040826949]]\n",
      "['temp', 'humidity', 'wind']\n"
     ]
    },
    {
     "ename": "AttributeError",
     "evalue": "'str' object has no attribute 'columns'",
     "output_type": "error",
     "traceback": [
      "\u001b[1;31m---------------------------------------------------------------------------\u001b[0m",
      "\u001b[1;31mAttributeError\u001b[0m                            Traceback (most recent call last)",
      "\u001b[1;32m<ipython-input-18-bcf875aca5d7>\u001b[0m in \u001b[0;36m<module>\u001b[1;34m()\u001b[0m\n\u001b[1;32m----> 1\u001b[1;33m \u001b[0mID3\u001b[0m\u001b[1;33m(\u001b[0m\u001b[0mmydata\u001b[0m\u001b[1;33m,\u001b[0m\u001b[0mmydata\u001b[0m\u001b[1;33m[\u001b[0m\u001b[1;34m\"play\"\u001b[0m\u001b[1;33m]\u001b[0m\u001b[1;33m)\u001b[0m\u001b[1;33m\u001b[0m\u001b[0m\n\u001b[0m",
      "\u001b[1;32m<ipython-input-17-1b51618191b5>\u001b[0m in \u001b[0;36mID3\u001b[1;34m(data, target_col)\u001b[0m\n\u001b[0;32m     19\u001b[0m             \u001b[0msub_data\u001b[0m \u001b[1;33m=\u001b[0m \u001b[0mdata\u001b[0m\u001b[1;33m.\u001b[0m\u001b[0mwhere\u001b[0m\u001b[1;33m(\u001b[0m\u001b[0mdata\u001b[0m\u001b[1;33m[\u001b[0m\u001b[0mbest_feature\u001b[0m\u001b[1;33m]\u001b[0m \u001b[1;33m==\u001b[0m \u001b[0mvalue\u001b[0m\u001b[1;33m)\u001b[0m\u001b[1;33m.\u001b[0m\u001b[0mdropna\u001b[0m\u001b[1;33m(\u001b[0m\u001b[1;33m)\u001b[0m\u001b[1;33m\u001b[0m\u001b[0m\n\u001b[0;32m     20\u001b[0m     \u001b[1;32mfor\u001b[0m \u001b[0mcolumn\u001b[0m \u001b[1;32min\u001b[0m \u001b[0mcol_s\u001b[0m\u001b[1;33m:\u001b[0m\u001b[1;33m\u001b[0m\u001b[0m\n\u001b[1;32m---> 21\u001b[1;33m             \u001b[0mx\u001b[0m \u001b[1;33m=\u001b[0m \u001b[0mInformationGain\u001b[0m\u001b[1;33m(\u001b[0m\u001b[0mbest_feature\u001b[0m\u001b[1;33m,\u001b[0m\u001b[0mcolumn\u001b[0m\u001b[1;33m)\u001b[0m\u001b[1;33m\u001b[0m\u001b[0m\n\u001b[0m\u001b[0;32m     22\u001b[0m             \u001b[0msubtree\u001b[0m \u001b[1;33m=\u001b[0m \u001b[0mID3\u001b[0m\u001b[1;33m(\u001b[0m\u001b[0msub_data\u001b[0m\u001b[1;33m,\u001b[0m\u001b[0mtarget_col\u001b[0m\u001b[1;33m)\u001b[0m\u001b[1;33m\u001b[0m\u001b[0m\n\u001b[0;32m     23\u001b[0m \u001b[1;33m\u001b[0m\u001b[0m\n",
      "\u001b[1;32m<ipython-input-10-cf85520a79d4>\u001b[0m in \u001b[0;36mInformationGain\u001b[1;34m(data, target_col)\u001b[0m\n\u001b[0;32m      3\u001b[0m     \u001b[1;31m#print(t_e)\u001b[0m\u001b[1;33m\u001b[0m\u001b[1;33m\u001b[0m\u001b[0m\n\u001b[0;32m      4\u001b[0m     \u001b[0mInfogain\u001b[0m \u001b[1;33m=\u001b[0m\u001b[1;33m[\u001b[0m\u001b[1;33m]\u001b[0m\u001b[1;33m\u001b[0m\u001b[0m\n\u001b[1;32m----> 5\u001b[1;33m     \u001b[0mcol_s\u001b[0m\u001b[1;33m=\u001b[0m\u001b[0mdata\u001b[0m\u001b[1;33m.\u001b[0m\u001b[0mcolumns\u001b[0m\u001b[1;33m[\u001b[0m\u001b[1;36m0\u001b[0m\u001b[1;33m:\u001b[0m\u001b[0mlen\u001b[0m\u001b[1;33m(\u001b[0m\u001b[0mdata\u001b[0m\u001b[1;33m.\u001b[0m\u001b[0mcolumns\u001b[0m\u001b[1;33m)\u001b[0m\u001b[1;33m-\u001b[0m\u001b[1;36m1\u001b[0m\u001b[1;33m]\u001b[0m\u001b[1;33m\u001b[0m\u001b[0m\n\u001b[0m\u001b[0;32m      6\u001b[0m     \u001b[1;31m#print(col_s)\u001b[0m\u001b[1;33m\u001b[0m\u001b[1;33m\u001b[0m\u001b[0m\n\u001b[0;32m      7\u001b[0m     \u001b[0mig\u001b[0m \u001b[1;33m=\u001b[0m \u001b[1;36m0\u001b[0m\u001b[1;33m\u001b[0m\u001b[0m\n",
      "\u001b[1;31mAttributeError\u001b[0m: 'str' object has no attribute 'columns'"
     ]
    }
   ],
   "source": [
    "ID3(mydata,mydata[\"play\"])"
   ]
  },
  {
   "cell_type": "code",
   "execution_count": null,
   "metadata": {},
   "outputs": [],
   "source": []
  }
 ],
 "metadata": {
  "kernelspec": {
   "display_name": "Python 3",
   "language": "python",
   "name": "python3"
  },
  "language_info": {
   "codemirror_mode": {
    "name": "ipython",
    "version": 3
   },
   "file_extension": ".py",
   "mimetype": "text/x-python",
   "name": "python",
   "nbconvert_exporter": "python",
   "pygments_lexer": "ipython3",
   "version": "3.6.5"
  }
 },
 "nbformat": 4,
 "nbformat_minor": 2
}
